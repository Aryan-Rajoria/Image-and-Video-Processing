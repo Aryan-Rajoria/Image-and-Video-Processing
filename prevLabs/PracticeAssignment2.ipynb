{
 "cells": [
  {
   "cell_type": "markdown",
   "source": "# IMAGE EDITING APP",
   "metadata": {
    "id": "fz9BsJDXENpD",
    "cell_id": "00000-7d934b3a-e56b-4fff-aa21-e8fec6e7e1ae",
    "deepnote_cell_type": "markdown"
   }
  },
  {
   "cell_type": "markdown",
   "source": "Create a basic version of an image editing app that consists of all the basic image editing operations as mentioned below.",
   "metadata": {
    "id": "Ssd7CZYEESty",
    "cell_id": "00001-36e96401-ff0e-4afb-a940-3d0b5db9bda4",
    "deepnote_cell_type": "markdown"
   }
  },
  {
   "cell_type": "markdown",
   "source": "## Upload, Save and Display Image\n\nWrite code that performs the operations to upload, save and display image. ",
   "metadata": {
    "id": "qJ0kFkNjEmJQ",
    "cell_id": "00002-7fbff249-bc56-4e3e-af36-ed8330df8f25",
    "deepnote_cell_type": "markdown"
   }
  },
  {
   "cell_type": "code",
   "metadata": {
    "id": "_B3wAvvvE2h3",
    "cell_id": "00003-da53d8d1-b3c1-4de4-b449-cee7cb698c8c",
    "deepnote_cell_type": "code"
   },
   "source": "# Upload save and display image\n# do we like upload the image on the cloud?\n# saving and display as follows?\n\n",
   "execution_count": null,
   "outputs": []
  },
  {
   "cell_type": "markdown",
   "source": "## Basic Image Operations\n\nWrite code to perform following operations:\n\n1. Crop Image according to the values mentioned by user\n2. Resize image based on the scaling factors mentioned by user. Also give the user an option to choose if he wants to maintain the aspect ration. \n3. Flip the image horizontally or vertically, as asked by user. \n4. Rotate Image in clockwise/anti-clockwise based on degrees entered by user\n\n",
   "metadata": {
    "id": "YMRJp9yhCDx3",
    "cell_id": "00004-cb6aea65-942e-41b8-90bb-74413aca3975",
    "deepnote_cell_type": "markdown"
   }
  },
  {
   "cell_type": "code",
   "metadata": {
    "id": "eY_MMk8JF8Yl",
    "cell_id": "00005-37235110-9b34-43a6-915f-24047a34f8a8",
    "deepnote_cell_type": "code"
   },
   "source": "",
   "execution_count": null,
   "outputs": []
  },
  {
   "cell_type": "markdown",
   "source": "## Create Instagram Like Filters\n\nAnalyze the instagram filters and write the code to create similar filters:\n\n1. Black and White (Moon, Inkwell Filter)\n",
   "metadata": {
    "id": "rVC6xdI0F_tl",
    "cell_id": "00006-56b5b8b0-5163-4154-a61f-8142f4b61bc5",
    "deepnote_cell_type": "markdown"
   }
  },
  {
   "cell_type": "code",
   "metadata": {
    "id": "hZWip0ucKQIW",
    "cell_id": "00007-62b705b8-3c92-46d4-a87a-0c3a0d61456e",
    "deepnote_cell_type": "code"
   },
   "source": "",
   "execution_count": null,
   "outputs": []
  },
  {
   "cell_type": "markdown",
   "source": "2. Brightness Adjustment Filter: Based on the value entered by user, increase/secrease brightness of image. ",
   "metadata": {
    "id": "rR5BLukCKD-W",
    "cell_id": "00008-b6c825c5-08a6-407f-8d62-c051b2b632e3",
    "deepnote_cell_type": "markdown"
   }
  },
  {
   "cell_type": "code",
   "metadata": {
    "id": "if4V2-gJKgyg",
    "cell_id": "00009-cae2c6ac-b50d-46d7-9585-88a854ab9b5c",
    "deepnote_cell_type": "code"
   },
   "source": "",
   "execution_count": null,
   "outputs": []
  },
  {
   "cell_type": "markdown",
   "source": "3. Sharpening Effect: Increase/Decrease sharpness in image based on user's preference. ",
   "metadata": {
    "id": "9FnsWujvKVaZ",
    "cell_id": "00010-9a6411d3-8536-468f-a283-c7a63ef3fb49",
    "deepnote_cell_type": "markdown"
   }
  },
  {
   "cell_type": "code",
   "metadata": {
    "id": "mLD-le5OKh93",
    "cell_id": "00011-e1517703-02b8-44c4-b360-4aeb93de5863",
    "deepnote_cell_type": "code"
   },
   "source": "",
   "execution_count": null,
   "outputs": []
  },
  {
   "cell_type": "markdown",
   "source": "4. Sepia Filter: Add warm, calm, vintage and nostalgic effects to the image. ",
   "metadata": {
    "id": "E67tkmuyKuFI",
    "cell_id": "00012-f1aaca7a-5015-485a-acd8-52f42dfbac95",
    "deepnote_cell_type": "markdown"
   }
  },
  {
   "cell_type": "code",
   "metadata": {
    "id": "Huk001-lLK9T",
    "cell_id": "00013-298100ee-1976-4065-84cf-c218643b8ffd",
    "deepnote_cell_type": "code"
   },
   "source": "",
   "execution_count": null,
   "outputs": []
  },
  {
   "cell_type": "markdown",
   "source": "5. Pencil Sketch Effect: (Look for the inbuilt function for this effect)",
   "metadata": {
    "id": "1m08eUSVK1XB",
    "cell_id": "00014-594d4204-f88b-48fb-8f88-86bbd25e1204",
    "deepnote_cell_type": "markdown"
   }
  },
  {
   "cell_type": "code",
   "metadata": {
    "id": "_iholqNwLL5Q",
    "cell_id": "00015-c707d55b-cb70-4955-aaa9-7af681c78fea",
    "deepnote_cell_type": "code"
   },
   "source": "",
   "execution_count": null,
   "outputs": []
  },
  {
   "cell_type": "markdown",
   "source": "6. Invert Filter: This filter inverts the pixel values. Apply this effect also on color image. ",
   "metadata": {
    "id": "1lWfK_8HLWKD",
    "cell_id": "00016-4124de1d-e816-41e2-bcef-774b5ac8230c",
    "deepnote_cell_type": "markdown"
   }
  },
  {
   "cell_type": "code",
   "metadata": {
    "id": "njMxNZ_eLiHZ",
    "cell_id": "00017-d2805d4c-90cb-4ec8-b5cc-905c19d32458",
    "deepnote_cell_type": "code"
   },
   "source": "",
   "execution_count": null,
   "outputs": []
  },
  {
   "cell_type": "markdown",
   "source": "7. Summer Effect Filter\n\nHint: High Red, Low Blue",
   "metadata": {
    "id": "RIoCcQoNLiZQ",
    "cell_id": "00018-5969c999-8b4b-41a0-8f40-4661a6bf08ae",
    "deepnote_cell_type": "markdown"
   }
  },
  {
   "cell_type": "code",
   "metadata": {
    "id": "-j8fiDD7LouS",
    "cell_id": "00019-780c64c6-2876-4674-9ca3-7938c0f8218a",
    "deepnote_cell_type": "code"
   },
   "source": "",
   "execution_count": null,
   "outputs": []
  },
  {
   "cell_type": "markdown",
   "source": "8. Winter Effect Filter\n\nHint: Low Red, High Blue",
   "metadata": {
    "id": "7yOqWjjpLtgR",
    "cell_id": "00020-0bf0e96b-0981-4651-8aaa-9c38e7e9b99b",
    "deepnote_cell_type": "markdown"
   }
  },
  {
   "cell_type": "code",
   "metadata": {
    "id": "GFshgkpiLvl5",
    "cell_id": "00021-4d3cfbb0-6a6f-43d2-8700-1a659f3c37aa",
    "deepnote_cell_type": "code"
   },
   "source": "",
   "execution_count": null,
   "outputs": []
  },
  {
   "cell_type": "markdown",
   "source": "9. HDR Effect: This effect should enhance the details in the image.\n\nHint: Analyze inbuilt function cv2.detailEnhance()",
   "metadata": {
    "id": "P390hWy8L8xa",
    "cell_id": "00022-0e790af1-3b1a-4d47-be84-b9ebf402f1cd",
    "deepnote_cell_type": "markdown"
   }
  },
  {
   "cell_type": "code",
   "metadata": {
    "id": "4x3h-0REMRbL",
    "cell_id": "00023-898324ae-1f9d-4508-a74b-8b86cc4b4e36",
    "deepnote_cell_type": "code"
   },
   "source": "",
   "execution_count": null,
   "outputs": []
  },
  {
   "cell_type": "markdown",
   "source": "10. Blur Filter: Based on the values entered by user, blur the image.",
   "metadata": {
    "id": "xNCtAeC1MRvB",
    "cell_id": "00024-ad1c4a73-647a-46d4-9fee-d900ecfa0806",
    "deepnote_cell_type": "markdown"
   }
  },
  {
   "cell_type": "code",
   "metadata": {
    "id": "tLzL1LAJMa8y",
    "cell_id": "00025-313a64bb-a264-4168-a963-f0fed52caefd",
    "deepnote_cell_type": "code"
   },
   "source": "",
   "execution_count": null,
   "outputs": []
  },
  {
   "cell_type": "markdown",
   "source": "11. **Auto Filter**\n\nHere you need to choose your own filters and parameters, that would be set when the user chooses this filter.",
   "metadata": {
    "id": "eyfv8dcANMpR",
    "cell_id": "00026-7b654c39-f9a8-4f75-bff7-4b84ca80b539",
    "deepnote_cell_type": "markdown"
   }
  },
  {
   "cell_type": "code",
   "metadata": {
    "id": "eRXu85xCNMTh",
    "cell_id": "00027-d5850d7a-d20e-4757-ab94-5a642f33f4db",
    "deepnote_cell_type": "code"
   },
   "source": "",
   "execution_count": null,
   "outputs": []
  },
  {
   "cell_type": "markdown",
   "source": "## Add Frames\n\nWrtie code that adds a frame around the image based on the color choice entered by the user. ",
   "metadata": {
    "id": "f4qVBCwFGRYC",
    "cell_id": "00028-14b96e1d-da61-4cb7-b25b-5bf7ce578917",
    "deepnote_cell_type": "markdown"
   }
  },
  {
   "cell_type": "code",
   "metadata": {
    "id": "JHAZjKP5Hlgx",
    "cell_id": "00029-3e9f2cbb-eed8-4dcb-8b09-436c354f2692",
    "deepnote_cell_type": "code"
   },
   "source": "",
   "execution_count": null,
   "outputs": []
  },
  {
   "cell_type": "markdown",
   "source": "## Add Stickers",
   "metadata": {
    "id": "67AHY1tbP0q6",
    "cell_id": "00030-119a9a2c-58c0-41bb-93a1-8608488005db",
    "deepnote_cell_type": "markdown"
   }
  },
  {
   "cell_type": "markdown",
   "source": "<a style='text-decoration:none;line-height:16px;display:flex;color:#5B5B62;padding:10px;justify-content:end;' href='https://deepnote.com?utm_source=created-in-deepnote-cell&projectId=8a021122-34da-482c-a2ea-1b10266af18e' target=\"_blank\">\n<img alt='Created in deepnote.com' style='display:inline;max-height:16px;margin:0px;margin-right:7.5px;' src='data:image/svg+xml;base64,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' > </img>\nCreated in <span style='font-weight:600;margin-left:4px;'>Deepnote</span></a>",
   "metadata": {
    "tags": [],
    "created_in_deepnote_cell": true,
    "deepnote_cell_type": "markdown"
   }
  }
 ],
 "nbformat": 4,
 "nbformat_minor": 0,
 "metadata": {
  "colab": {
   "name": "PracticeAssignment1.ipynb",
   "provenance": []
  },
  "kernelspec": {
   "name": "python3",
   "display_name": "Python 3"
  },
  "language_info": {
   "name": "python"
  },
  "deepnote_notebook_id": "a5f91867-2562-4c93-841d-c37fc855c80b",
  "deepnote": {},
  "deepnote_execution_queue": []
 }
}